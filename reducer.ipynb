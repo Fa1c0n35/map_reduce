{
  "nbformat": 4,
  "nbformat_minor": 0,
  "metadata": {
    "colab": {
      "name": "reducer.ipynb",
      "version": "0.3.2",
      "provenance": [],
      "collapsed_sections": [],
      "include_colab_link": true
    },
    "kernelspec": {
      "name": "python3",
      "display_name": "Python 3"
    }
  },
  "cells": [
    {
      "cell_type": "markdown",
      "metadata": {
        "id": "view-in-github",
        "colab_type": "text"
      },
      "source": [
        "<a href=\"https://colab.research.google.com/github/Kzis/map_reduce/blob/master/reducer.ipynb\" target=\"_parent\"><img src=\"https://colab.research.google.com/assets/colab-badge.svg\" alt=\"Open In Colab\"/></a>"
      ]
    },
    {
      "metadata": {
        "id": "l7px_7nM7odB",
        "colab_type": "code",
        "colab": {}
      },
      "cell_type": "code",
      "source": [
        "#!/usr/bin/env python\n",
        "\n",
        "from operator import itemgetter\n",
        "import sys\n",
        "\n",
        "If __name__ == ‘__main__’:\n",
        "\tcurkey = None\n",
        "\ttotal = 0\n",
        "\tfor line in sys.stdin:\n",
        "\t\tkey, val = line.split(‘\\t’,1)\n",
        "\t\tval = int(val)\n",
        "\n",
        "\t\tif key == curkey:\n",
        "\t\t\ttotal += val\n",
        "\t\telse:\n",
        "\t\t\tif curkey is not None:\n",
        "\t\t\t\tsys.stdout.write(‘{0}\\t{1}\\n’.format(curkey, total))\n",
        "\t\t\tcurkey = key\n",
        "\t\t\ttotal = val\n",
        "\n",
        "\tsys.stdout.write(‘{0}\\t{1}\\n’.format(curkey, total))"
      ],
      "execution_count": 0,
      "outputs": []
    }
  ]
}