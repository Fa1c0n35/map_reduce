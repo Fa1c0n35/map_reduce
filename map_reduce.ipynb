{
  "nbformat": 4,
  "nbformat_minor": 0,
  "metadata": {
    "colab": {
      "name": "map_reduce.ipynb",
      "version": "0.3.2",
      "provenance": [],
      "collapsed_sections": [],
      "include_colab_link": true
    },
    "kernelspec": {
      "name": "python3",
      "display_name": "Python 3"
    }
  },
  "cells": [
    {
      "cell_type": "markdown",
      "metadata": {
        "id": "view-in-github",
        "colab_type": "text"
      },
      "source": [
        "<a href=\"https://colab.research.google.com/github/Kzis/map_reduce/blob/master/map_reduce.ipynb\" target=\"_parent\"><img src=\"https://colab.research.google.com/assets/colab-badge.svg\" alt=\"Open In Colab\"/></a>"
      ]
    },
    {
      "metadata": {
        "id": "TX-tKxM73iz6",
        "colab_type": "code",
        "colab": {
          "base_uri": "https://localhost:8080/",
          "height": 34
        },
        "outputId": "80055343-d6d0-434e-f9b3-cd3ab7e6d816"
      },
      "cell_type": "code",
      "source": [
        "import csv\n",
        "\n",
        "line = []\n",
        "\n",
        "with open('test.csv') as csv_file:\n",
        "    csv_reader = csv.reader(csv_file, delimiter='\\n')\n",
        "    for row in csv_reader:\n",
        "        line.append(row[0])\n",
        "        \n",
        "print(line)"
      ],
      "execution_count": 73,
      "outputs": [
        {
          "output_type": "stream",
          "text": [
            "['This is a book', 'yes that is a book']\n"
          ],
          "name": "stdout"
        }
      ]
    },
    {
      "metadata": {
        "id": "W9TuSlYv6l1z",
        "colab_type": "code",
        "colab": {}
      },
      "cell_type": "code",
      "source": [
        "\n",
        "map_list = []\n",
        "def mapper(all_data):\n",
        "  for line in all_data:\n",
        "    \n",
        "    line = line.strip()\n",
        "    \n",
        "    words = line.split()\n",
        "    \n",
        "    for word in words: \n",
        "        print('{}\\t{}'.format(word, \"1\"))\n",
        "        map_list.append('{}\\t{}'.format(word, \"1\"))"
      ],
      "execution_count": 0,
      "outputs": []
    },
    {
      "metadata": {
        "id": "WyYdoByD97GK",
        "colab_type": "code",
        "colab": {
          "base_uri": "https://localhost:8080/",
          "height": 173
        },
        "outputId": "08f730d6-6756-4ada-fbae-645f1dbcacce"
      },
      "cell_type": "code",
      "source": [
        "mapper(line)"
      ],
      "execution_count": 75,
      "outputs": [
        {
          "output_type": "stream",
          "text": [
            "This\t1\n",
            "is\t1\n",
            "a\t1\n",
            "book\t1\n",
            "yes\t1\n",
            "that\t1\n",
            "is\t1\n",
            "a\t1\n",
            "book\t1\n"
          ],
          "name": "stdout"
        }
      ]
    },
    {
      "metadata": {
        "id": "n56ARrkP-km9",
        "colab_type": "code",
        "colab": {}
      },
      "cell_type": "code",
      "source": [
        "\n",
        "def reduce(map_list):\n",
        "  word2count = dict()\n",
        " \n",
        "  for line in map_list:\n",
        "     \n",
        "      line = line.strip()\n",
        "       \n",
        "      word, count = line.split('\\t', 1)\n",
        "      \n",
        "      count = int(count)\n",
        "\n",
        "      if word in word2count:\n",
        "        word2count[word] = word2count[word]+count\n",
        "      else:\n",
        "        word2count[word] = count\n",
        "    \n",
        "  for word in word2count.keys():\n",
        "    print('{}\\t{}'.format(word, word2count[word]))"
      ],
      "execution_count": 0,
      "outputs": []
    },
    {
      "metadata": {
        "id": "iUnD-UL3AGXr",
        "colab_type": "code",
        "colab": {
          "base_uri": "https://localhost:8080/",
          "height": 121
        },
        "outputId": "bf7441d2-9acd-4fe2-ebde-379b3c594b07"
      },
      "cell_type": "code",
      "source": [
        "reduce(map_list)"
      ],
      "execution_count": 77,
      "outputs": [
        {
          "output_type": "stream",
          "text": [
            "This\t1\n",
            "is\t2\n",
            "a\t2\n",
            "book\t2\n",
            "yes\t1\n",
            "that\t1\n"
          ],
          "name": "stdout"
        }
      ]
    }
  ]
}