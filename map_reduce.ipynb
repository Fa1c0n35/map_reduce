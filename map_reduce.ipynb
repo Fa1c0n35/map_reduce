{
  "nbformat": 4,
  "nbformat_minor": 0,
  "metadata": {
    "colab": {
      "name": "map_reduce.ipynb",
      "version": "0.3.2",
      "provenance": [],
      "collapsed_sections": [],
      "include_colab_link": true
    },
    "kernelspec": {
      "name": "python3",
      "display_name": "Python 3"
    }
  },
  "cells": [
    {
      "cell_type": "markdown",
      "metadata": {
        "id": "view-in-github",
        "colab_type": "text"
      },
      "source": [
        "<a href=\"https://colab.research.google.com/github/Kzis/map_reduce/blob/master/map_reduce.ipynb\" target=\"_parent\"><img src=\"https://colab.research.google.com/assets/colab-badge.svg\" alt=\"Open In Colab\"/></a>"
      ]
    },
    {
      "metadata": {
        "id": "TX-tKxM73iz6",
        "colab_type": "code",
        "outputId": "e0d1c2dc-097f-4a5b-b159-1a4db3ae51f7",
        "colab": {
          "base_uri": "https://localhost:8080/",
          "height": 34
        }
      },
      "cell_type": "code",
      "source": [
        "import csv\n",
        "\n",
        "line = []\n",
        "\n",
        "with open('test.csv') as csv_file:\n",
        "    csv_reader = csv.reader(csv_file, delimiter='\\n')\n",
        "    for row in csv_reader:\n",
        "        line.append(row[0])\n",
        "        \n",
        "print(line)"
      ],
      "execution_count": 1,
      "outputs": [
        {
          "output_type": "stream",
          "text": [
            "['This is a book', 'yes that is a book']\n"
          ],
          "name": "stdout"
        }
      ]
    },
    {
      "metadata": {
        "id": "W9TuSlYv6l1z",
        "colab_type": "code",
        "colab": {}
      },
      "cell_type": "code",
      "source": [
        "\n",
        "map_list = []\n",
        "def mapper(all_data):\n",
        "  for line in all_data:\n",
        "    \n",
        "    line = line.strip()\n",
        "    \n",
        "    words = line.split()\n",
        "    \n",
        "    for word in words: \n",
        "        print('{}\\t{}'.format(word, \"1\"))\n",
        "        map_list.append('{}\\t{}'.format(word, \"1\"))"
      ],
      "execution_count": 0,
      "outputs": []
    },
    {
      "metadata": {
        "id": "WyYdoByD97GK",
        "colab_type": "code",
        "outputId": "d6da438e-8f43-47bc-90cf-bca45bd3dafa",
        "colab": {
          "base_uri": "https://localhost:8080/",
          "height": 173
        }
      },
      "cell_type": "code",
      "source": [
        "mapper(line)"
      ],
      "execution_count": 3,
      "outputs": [
        {
          "output_type": "stream",
          "text": [
            "This\t1\n",
            "is\t1\n",
            "a\t1\n",
            "book\t1\n",
            "yes\t1\n",
            "that\t1\n",
            "is\t1\n",
            "a\t1\n",
            "book\t1\n"
          ],
          "name": "stdout"
        }
      ]
    },
    {
      "metadata": {
        "id": "n56ARrkP-km9",
        "colab_type": "code",
        "colab": {}
      },
      "cell_type": "code",
      "source": [
        "\n",
        "def reduce(map_list):\n",
        "  word2count = dict()\n",
        " \n",
        "  for line in map_list:\n",
        "     \n",
        "      line = line.strip()\n",
        "       \n",
        "      word, count = line.split('\\t', 1)\n",
        "      \n",
        "      count = int(count)\n",
        "\n",
        "      if word in word2count:\n",
        "        word2count[word] = word2count[word]+count\n",
        "      else:\n",
        "        word2count[word] = count\n",
        "    \n",
        "  for word in word2count.keys():\n",
        "    print('{}\\t{}'.format(word, word2count[word]))"
      ],
      "execution_count": 0,
      "outputs": []
    },
    {
      "metadata": {
        "id": "iUnD-UL3AGXr",
        "colab_type": "code",
        "outputId": "9ed2ca1a-69de-4cb4-818e-f63586ccb379",
        "colab": {
          "base_uri": "https://localhost:8080/",
          "height": 121
        }
      },
      "cell_type": "code",
      "source": [
        "reduce(map_list)"
      ],
      "execution_count": 5,
      "outputs": [
        {
          "output_type": "stream",
          "text": [
            "This\t1\n",
            "is\t2\n",
            "a\t2\n",
            "book\t2\n",
            "yes\t1\n",
            "that\t1\n"
          ],
          "name": "stdout"
        }
      ]
    },
    {
      "metadata": {
        "id": "CW9k9H1kQbEs",
        "colab_type": "code",
        "colab": {
          "base_uri": "https://localhost:8080/",
          "height": 121
        },
        "outputId": "e9018102-27d8-4c55-d47a-3ad2d56a011c"
      },
      "cell_type": "code",
      "source": [
        "file = open('test.csv', \"r\", encoding=\"utf-8-sig\")\n",
        "from collections import Counter\n",
        "wordcount = Counter(file.read().split())\n",
        "for item in wordcount.items(): print(\"{}\\t{}\".format(*item))"
      ],
      "execution_count": 7,
      "outputs": [
        {
          "output_type": "stream",
          "text": [
            "This\t1\n",
            "is\t2\n",
            "a\t2\n",
            "book\t2\n",
            "yes\t1\n",
            "that\t1\n"
          ],
          "name": "stdout"
        }
      ]
    }
  ]
}