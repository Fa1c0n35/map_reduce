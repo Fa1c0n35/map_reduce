{
  "nbformat": 4,
  "nbformat_minor": 0,
  "metadata": {
    "colab": {
      "name": "map_reduce2.ipynb",
      "version": "0.3.2",
      "provenance": [],
      "include_colab_link": true
    },
    "kernelspec": {
      "name": "python3",
      "display_name": "Python 3"
    }
  },
  "cells": [
    {
      "cell_type": "markdown",
      "metadata": {
        "id": "view-in-github",
        "colab_type": "text"
      },
      "source": [
        "<a href=\"https://colab.research.google.com/github/Kzis/map_reduce/blob/master/map_reduce2.ipynb\" target=\"_parent\"><img src=\"https://colab.research.google.com/assets/colab-badge.svg\" alt=\"Open In Colab\"/></a>"
      ]
    },
    {
      "metadata": {
        "id": "KWjTZ1_lmWdN",
        "colab_type": "code",
        "colab": {
          "base_uri": "https://localhost:8080/",
          "height": 69
        },
        "outputId": "1a69befc-ffae-48d4-875b-a4750765a49e"
      },
      "cell_type": "code",
      "source": [
        "\n",
        "import collections\n",
        "\n",
        "text = \"\"\"one two three four five six seven eight nine ten\n",
        "1 2 3 4 5 6 7 8 9 10\n",
        "a b c d e f g h i j\n",
        "\"\"\"\n",
        "\n",
        "for line in text.splitlines():\n",
        "  words = line.split()\n",
        "  words2 = collections.deque(words)\n",
        "  words2.rotate(1)\n",
        "\n",
        "  collection = list(map(lambda a , b: a+\" \"+b ,list(words2), words))\n",
        "  del collection[0]\n",
        "\n",
        "  print(collection)\n"
      ],
      "execution_count": 16,
      "outputs": [
        {
          "output_type": "stream",
          "text": [
            "['one two', 'two three', 'three four', 'four five', 'five six', 'six seven', 'seven eight', 'eight nine', 'nine ten']\n",
            "['1 2', '2 3', '3 4', '4 5', '5 6', '6 7', '7 8', '8 9', '9 10']\n",
            "['a b', 'b c', 'c d', 'd e', 'e f', 'f g', 'g h', 'h i', 'i j']\n"
          ],
          "name": "stdout"
        }
      ]
    },
    {
      "metadata": {
        "id": "dpBVHtcPvjeJ",
        "colab_type": "code",
        "colab": {
          "base_uri": "https://localhost:8080/",
          "height": 34
        },
        "outputId": "f96a1529-364d-438c-b234-4ae034d41d56"
      },
      "cell_type": "code",
      "source": [
        "import csv\n",
        "\n",
        "line = []\n",
        "\n",
        "with open('test2.csv') as csv_file:\n",
        "    csv_reader = csv.reader(csv_file, delimiter='\\n')\n",
        "    for row in csv_reader:\n",
        "        line.append(row[0])\n",
        "        \n",
        "print(line)"
      ],
      "execution_count": 22,
      "outputs": [
        {
          "output_type": "stream",
          "text": [
            "['one two three four five six seven eight nine ten', '1 2 3 4 5 6 7 8 9 10', 'a b c d e f g h i j', '1 2 c d e f four five six seven']\n"
          ],
          "name": "stdout"
        }
      ]
    },
    {
      "metadata": {
        "id": "SFczcPCnvq8Z",
        "colab_type": "code",
        "colab": {}
      },
      "cell_type": "code",
      "source": [
        "map_list = []\n",
        "def mapper(all_data):\n",
        "  for line in all_data:\n",
        "    \n",
        "    words = line.split()\n",
        "    words2 = collections.deque(words)\n",
        "    words2.rotate(1)\n",
        "\n",
        "    words = list(map(lambda a , b: a+\" \"+b ,list(words2), words))\n",
        "    del words[0]\n",
        "    \n",
        "    for word in words: \n",
        "        print('{}\\t{}'.format(word, \"1\"))\n",
        "        map_list.append('{}\\t{}'.format(word, \"1\"))"
      ],
      "execution_count": 0,
      "outputs": []
    },
    {
      "metadata": {
        "id": "mpttOPSSwJ3p",
        "colab_type": "code",
        "colab": {
          "base_uri": "https://localhost:8080/",
          "height": 641
        },
        "outputId": "e39ebcf5-376f-4667-e1c9-1dbd5f44b44b"
      },
      "cell_type": "code",
      "source": [
        "mapper(line)"
      ],
      "execution_count": 24,
      "outputs": [
        {
          "output_type": "stream",
          "text": [
            "one two\t1\n",
            "two three\t1\n",
            "three four\t1\n",
            "four five\t1\n",
            "five six\t1\n",
            "six seven\t1\n",
            "seven eight\t1\n",
            "eight nine\t1\n",
            "nine ten\t1\n",
            "1 2\t1\n",
            "2 3\t1\n",
            "3 4\t1\n",
            "4 5\t1\n",
            "5 6\t1\n",
            "6 7\t1\n",
            "7 8\t1\n",
            "8 9\t1\n",
            "9 10\t1\n",
            "a b\t1\n",
            "b c\t1\n",
            "c d\t1\n",
            "d e\t1\n",
            "e f\t1\n",
            "f g\t1\n",
            "g h\t1\n",
            "h i\t1\n",
            "i j\t1\n",
            "1 2\t1\n",
            "2 c\t1\n",
            "c d\t1\n",
            "d e\t1\n",
            "e f\t1\n",
            "f four\t1\n",
            "four five\t1\n",
            "five six\t1\n",
            "six seven\t1\n"
          ],
          "name": "stdout"
        }
      ]
    }
  ]
}