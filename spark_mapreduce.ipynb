{
  "nbformat": 4,
  "nbformat_minor": 0,
  "metadata": {
    "colab": {
      "name": "spark_mapreduce.ipynb",
      "version": "0.3.2",
      "provenance": [],
      "collapsed_sections": [],
      "include_colab_link": true
    },
    "kernelspec": {
      "name": "python3",
      "display_name": "Python 3"
    }
  },
  "cells": [
    {
      "cell_type": "markdown",
      "metadata": {
        "id": "view-in-github",
        "colab_type": "text"
      },
      "source": [
        "<a href=\"https://colab.research.google.com/github/Kzis/map_reduce/blob/master/spark_mapreduce.ipynb\" target=\"_parent\"><img src=\"https://colab.research.google.com/assets/colab-badge.svg\" alt=\"Open In Colab\"/></a>"
      ]
    },
    {
      "cell_type": "code",
      "metadata": {
        "id": "e2ia-Fb2odAV",
        "colab_type": "code",
        "colab": {}
      },
      "source": [
        "!apt-get install openjdk-8-jdk-headless -qq > /dev/null"
      ],
      "execution_count": 0,
      "outputs": []
    },
    {
      "cell_type": "code",
      "metadata": {
        "id": "Kue8PHNeohNg",
        "colab_type": "code",
        "colab": {}
      },
      "source": [
        "!wget -q http://www-eu.apache.org/dist/spark/spark-2.4.3/spark-2.4.3-bin-hadoop2.7.tgz\n"
      ],
      "execution_count": 0,
      "outputs": []
    },
    {
      "cell_type": "code",
      "metadata": {
        "id": "7ueXMg8Kom7w",
        "colab_type": "code",
        "colab": {}
      },
      "source": [
        "!tar xf spark-2.4.3-bin-hadoop2.7.tgz"
      ],
      "execution_count": 0,
      "outputs": []
    },
    {
      "cell_type": "code",
      "metadata": {
        "id": "zHpQa5GXor8n",
        "colab_type": "code",
        "colab": {}
      },
      "source": [
        "!pip install -q findspark\n"
      ],
      "execution_count": 0,
      "outputs": []
    },
    {
      "cell_type": "code",
      "metadata": {
        "id": "ai3ZXfogpIe_",
        "colab_type": "code",
        "colab": {}
      },
      "source": [
        "\n",
        "import os\n",
        "os.environ[\"JAVA_HOME\"] = \"/usr/lib/jvm/java-8-openjdk-amd64\"\n",
        "os.environ[\"SPARK_HOME\"] = \"/content/spark-2.4.3-bin-hadoop2.7\""
      ],
      "execution_count": 0,
      "outputs": []
    },
    {
      "cell_type": "code",
      "metadata": {
        "id": "xuf6_5KIpNJ3",
        "colab_type": "code",
        "colab": {}
      },
      "source": [
        "from pyspark.sql import SparkSession\n",
        "from pyspark import SparkContext\n",
        "\n",
        "spark = SparkSession.builder.master(\"local\").getOrCreate()\n",
        "sc = SparkContext.getOrCreate()"
      ],
      "execution_count": 0,
      "outputs": []
    },
    {
      "cell_type": "code",
      "metadata": {
        "id": "RTmv5LCapRJA",
        "colab_type": "code",
        "colab": {
          "base_uri": "https://localhost:8080/",
          "height": 52
        },
        "outputId": "325cf622-6c74-450f-c2b3-771b9027fa68"
      },
      "source": [
        "list1 = [\"1 1 1 2 2 2 3 3 3 4 5 6\"]\n",
        "rdd = sc.parallelize(list1)\n",
        "\n",
        "wc = rdd.flatMap(lambda line: line.split(\" \"))\n",
        "print(wc.collect())\n",
        "\n",
        "words = wc.map(lambda word: (word, 1))\n",
        "\n",
        "counts = words.reduceByKey(lambda a, b: a + b)\n",
        "\n",
        "print(counts.collect())"
      ],
      "execution_count": 54,
      "outputs": [
        {
          "output_type": "stream",
          "text": [
            "['1', '1', '1', '2', '2', '2', '3', '3', '3', '4', '5', '6']\n",
            "[('1', 3), ('4', 1), ('2', 3), ('3', 3), ('5', 1), ('6', 1)]\n"
          ],
          "name": "stdout"
        }
      ]
    },
    {
      "cell_type": "code",
      "metadata": {
        "id": "GGZ28LnWGslo",
        "colab_type": "code",
        "colab": {}
      },
      "source": [
        "import collections\n",
        "\n",
        "map_list = []\n",
        "\n",
        "def mapper(all_data):\n",
        "\n",
        "  for line in all_data:\n",
        "    \n",
        "    words = line.split()\n",
        "    words2 = collections.deque(words)\n",
        "    words2.rotate(1)\n",
        "\n",
        "    words = list(map(lambda a , b: a+\" \"+b ,list(words2), words))\n",
        "    del words[0]\n",
        "    \n",
        "  return words"
      ],
      "execution_count": 0,
      "outputs": []
    },
    {
      "cell_type": "code",
      "metadata": {
        "id": "OSXLoRHRG454",
        "colab_type": "code",
        "colab": {
          "base_uri": "https://localhost:8080/",
          "height": 34
        },
        "outputId": "21d4c1f7-2e19-4557-dc02-c0e02352e81e"
      },
      "source": [
        "map_list = mapper(list1)\n",
        "print(map_list)"
      ],
      "execution_count": 86,
      "outputs": [
        {
          "output_type": "stream",
          "text": [
            "['1 1', '1 1', '1 2', '2 2', '2 2', '2 3', '3 3', '3 3', '3 4', '4 5', '5 6']\n"
          ],
          "name": "stdout"
        }
      ]
    },
    {
      "cell_type": "code",
      "metadata": {
        "id": "HWfm2QcDHwb5",
        "colab_type": "code",
        "colab": {
          "base_uri": "https://localhost:8080/",
          "height": 34
        },
        "outputId": "3449901d-d6c0-40cc-9639-b66577a5fa9c"
      },
      "source": [
        "x = sc.parallelize(map_list)\n",
        "y = x.map(lambda x: (x, 1))\n",
        "\n",
        "z = y.reduceByKey(lambda a, b: a + b)\n",
        "\n",
        "print(z.collect())"
      ],
      "execution_count": 87,
      "outputs": [
        {
          "output_type": "stream",
          "text": [
            "[('1 1', 2), ('1 2', 1), ('3 3', 2), ('4 5', 1), ('2 2', 2), ('2 3', 1), ('3 4', 1), ('5 6', 1)]\n"
          ],
          "name": "stdout"
        }
      ]
    },
    {
      "cell_type": "code",
      "metadata": {
        "id": "_GfvXEkO9sK9",
        "colab_type": "code",
        "colab": {
          "base_uri": "https://localhost:8080/",
          "height": 86
        },
        "outputId": "5c00f92c-29bc-42da-8cab-2bb7deaa9e37"
      },
      "source": [
        "import collections\n",
        "\n",
        "list1 = [\"1 1 1 2 2 2 3 3 3 4 5 6\"]\n",
        "rdd = sc.parallelize(list1)\n",
        "\n",
        "wc = rdd.flatMap(lambda line: line.split(\" \"))\n",
        "print(wc.collect())\n",
        "\n",
        "wcx = collections.deque(wc.collect())\n",
        "wcx.rotate(1)\n",
        "wc2 = rdd = sc.parallelize(list(wcx))\n",
        "print(wc2.collect())\n",
        "\n",
        "rdd3 = wc.zip(wc2).map(lambda x: (x,1)).reduceByKey(lambda x,y: x+y)\n",
        "print(rdd3)\n",
        "print(wc)\n",
        "\n"
      ],
      "execution_count": 73,
      "outputs": [
        {
          "output_type": "stream",
          "text": [
            "['1', '1', '1', '2', '2', '2', '3', '3', '3', '4', '5', '6']\n",
            "['6', '1', '1', '1', '2', '2', '2', '3', '3', '3', '4', '5']\n",
            "PythonRDD[185] at RDD at PythonRDD.scala:53\n",
            "PythonRDD[176] at collect at <ipython-input-73-66e9ef899e8a>:7\n"
          ],
          "name": "stdout"
        }
      ]
    }
  ]
}