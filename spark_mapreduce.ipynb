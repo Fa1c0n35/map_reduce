{
  "nbformat": 4,
  "nbformat_minor": 0,
  "metadata": {
    "colab": {
      "name": "spark_mapreduce.ipynb",
      "version": "0.3.2",
      "provenance": [],
      "collapsed_sections": [],
      "include_colab_link": true
    },
    "kernelspec": {
      "name": "python3",
      "display_name": "Python 3"
    }
  },
  "cells": [
    {
      "cell_type": "markdown",
      "metadata": {
        "id": "view-in-github",
        "colab_type": "text"
      },
      "source": [
        "<a href=\"https://colab.research.google.com/github/Kzis/map_reduce/blob/master/spark_mapreduce.ipynb\" target=\"_parent\"><img src=\"https://colab.research.google.com/assets/colab-badge.svg\" alt=\"Open In Colab\"/></a>"
      ]
    },
    {
      "cell_type": "code",
      "metadata": {
        "id": "e2ia-Fb2odAV",
        "colab_type": "code",
        "colab": {}
      },
      "source": [
        "!apt-get install openjdk-8-jdk-headless -qq > /dev/null"
      ],
      "execution_count": 0,
      "outputs": []
    },
    {
      "cell_type": "code",
      "metadata": {
        "id": "Kue8PHNeohNg",
        "colab_type": "code",
        "colab": {}
      },
      "source": [
        "!wget -q http://www-eu.apache.org/dist/spark/spark-2.4.3/spark-2.4.3-bin-hadoop2.7.tgz\n"
      ],
      "execution_count": 0,
      "outputs": []
    },
    {
      "cell_type": "code",
      "metadata": {
        "id": "7ueXMg8Kom7w",
        "colab_type": "code",
        "colab": {}
      },
      "source": [
        "!tar xf spark-2.4.3-bin-hadoop2.7.tgz"
      ],
      "execution_count": 0,
      "outputs": []
    },
    {
      "cell_type": "code",
      "metadata": {
        "id": "zHpQa5GXor8n",
        "colab_type": "code",
        "colab": {}
      },
      "source": [
        "!pip install -q findspark\n"
      ],
      "execution_count": 0,
      "outputs": []
    },
    {
      "cell_type": "code",
      "metadata": {
        "id": "ai3ZXfogpIe_",
        "colab_type": "code",
        "colab": {}
      },
      "source": [
        "\n",
        "import os\n",
        "os.environ[\"JAVA_HOME\"] = \"/usr/lib/jvm/java-8-openjdk-amd64\"\n",
        "os.environ[\"SPARK_HOME\"] = \"/content/spark-2.4.3-bin-hadoop2.7\""
      ],
      "execution_count": 0,
      "outputs": []
    },
    {
      "cell_type": "code",
      "metadata": {
        "id": "xuf6_5KIpNJ3",
        "colab_type": "code",
        "colab": {}
      },
      "source": [
        "import findspark\n",
        "findspark.init('/content/spark-2.4.3-bin-hadoop2.7')\n",
        "\n",
        "from pyspark.sql import SparkSession\n",
        "from pyspark import SparkContext\n",
        "\n",
        "spark = SparkSession.builder.master(\"local\").getOrCreate()\n",
        "sc = SparkContext.getOrCreate()"
      ],
      "execution_count": 0,
      "outputs": []
    },
    {
      "cell_type": "code",
      "metadata": {
        "id": "RTmv5LCapRJA",
        "colab_type": "code",
        "outputId": "878a8093-5820-4528-ebbc-ab360e7a3224",
        "colab": {
          "base_uri": "https://localhost:8080/",
          "height": 52
        }
      },
      "source": [
        "list1 = [\"1 1 1 2 2 2 3 3 3 4 5 6\"]\n",
        "rdd = sc.parallelize(list1)\n",
        "\n",
        "wc = rdd.flatMap(lambda line: line.split(\" \"))\n",
        "print(wc.collect())\n",
        "\n",
        "words = wc.map(lambda word: (word, 1))\n",
        "\n",
        "counts = words.reduceByKey(lambda a, b: a + b)\n",
        "\n",
        "print(counts.collect())"
      ],
      "execution_count": 10,
      "outputs": [
        {
          "output_type": "stream",
          "text": [
            "['1', '1', '1', '2', '2', '2', '3', '3', '3', '4', '5', '6']\n",
            "[('1', 3), ('2', 3), ('3', 3), ('4', 1), ('5', 1), ('6', 1)]\n"
          ],
          "name": "stdout"
        }
      ]
    },
    {
      "cell_type": "code",
      "metadata": {
        "id": "GGZ28LnWGslo",
        "colab_type": "code",
        "colab": {}
      },
      "source": [
        "import collections\n",
        "\n",
        "map_list = []\n",
        "\n",
        "def mapper(all_data):\n",
        "\n",
        "  for line in all_data:\n",
        "    \n",
        "    words = line.split()\n",
        "    words2 = collections.deque(words)\n",
        "    words2.rotate(1)\n",
        "\n",
        "    words = list(map(lambda a , b: a+\" \"+b ,list(words2), words))\n",
        "    del words[0]\n",
        "    \n",
        "  return words"
      ],
      "execution_count": 0,
      "outputs": []
    },
    {
      "cell_type": "code",
      "metadata": {
        "id": "OSXLoRHRG454",
        "colab_type": "code",
        "outputId": "a05ec219-e814-46b6-9619-c6088e56c301",
        "colab": {
          "base_uri": "https://localhost:8080/",
          "height": 34
        }
      },
      "source": [
        "map_list = mapper(list1)\n",
        "print(map_list)"
      ],
      "execution_count": 12,
      "outputs": [
        {
          "output_type": "stream",
          "text": [
            "['1 1', '1 1', '1 2', '2 2', '2 2', '2 3', '3 3', '3 3', '3 4', '4 5', '5 6']\n"
          ],
          "name": "stdout"
        }
      ]
    },
    {
      "cell_type": "code",
      "metadata": {
        "id": "HWfm2QcDHwb5",
        "colab_type": "code",
        "outputId": "3db47d85-6d9a-4240-afcf-479aed87aad6",
        "colab": {
          "base_uri": "https://localhost:8080/",
          "height": 34
        }
      },
      "source": [
        "x = sc.parallelize(map_list)\n",
        "y = x.map(lambda x: (x, 1))\n",
        "\n",
        "z = y.reduceByKey(lambda a, b: a + b)\n",
        "\n",
        "print(z.collect())"
      ],
      "execution_count": 13,
      "outputs": [
        {
          "output_type": "stream",
          "text": [
            "[('1 1', 2), ('1 2', 1), ('2 2', 2), ('2 3', 1), ('3 3', 2), ('3 4', 1), ('4 5', 1), ('5 6', 1)]\n"
          ],
          "name": "stdout"
        }
      ]
    },
    {
      "cell_type": "code",
      "metadata": {
        "id": "_GfvXEkO9sK9",
        "colab_type": "code",
        "outputId": "3e92f4cb-1ace-4867-b666-42e1fd90da99",
        "colab": {
          "base_uri": "https://localhost:8080/",
          "height": 86
        }
      },
      "source": [
        "import collections\n",
        "\n",
        "list1 = [\"1 1 1 2 2 2 3 3 3 4 5 6\"]\n",
        "rdd = sc.parallelize(list1)\n",
        "\n",
        "wc = rdd.flatMap(lambda line: line.split(\" \"))\n",
        "print(wc.collect())\n",
        "\n",
        "wcx = collections.deque(wc.collect())\n",
        "wcx.rotate(1)\n",
        "wc2 = rdd = sc.parallelize(list(wcx))\n",
        "print(wc2.collect())\n",
        "\n",
        "rdd3 = wc.zip(wc2).map(lambda x: (x,1)).reduceByKey(lambda x,y: x+y)\n",
        "print(rdd3)\n",
        "print(wc)\n",
        "\n"
      ],
      "execution_count": 14,
      "outputs": [
        {
          "output_type": "stream",
          "text": [
            "['1', '1', '1', '2', '2', '2', '3', '3', '3', '4', '5', '6']\n",
            "['6', '1', '1', '1', '2', '2', '2', '3', '3', '3', '4', '5']\n",
            "PythonRDD[30] at RDD at PythonRDD.scala:53\n",
            "PythonRDD[21] at collect at <ipython-input-14-66e9ef899e8a>:7\n"
          ],
          "name": "stdout"
        }
      ]
    }
  ]
}