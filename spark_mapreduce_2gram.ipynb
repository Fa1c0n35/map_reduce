{
  "nbformat": 4,
  "nbformat_minor": 0,
  "metadata": {
    "colab": {
      "name": "spark_mapreduce_2gram.ipynb",
      "version": "0.3.2",
      "provenance": [],
      "collapsed_sections": [],
      "include_colab_link": true
    },
    "kernelspec": {
      "name": "python3",
      "display_name": "Python 3"
    }
  },
  "cells": [
    {
      "cell_type": "markdown",
      "metadata": {
        "id": "view-in-github",
        "colab_type": "text"
      },
      "source": [
        "<a href=\"https://colab.research.google.com/github/Kzis/map_reduce/blob/master/spark_mapreduce_2gram.ipynb\" target=\"_parent\"><img src=\"https://colab.research.google.com/assets/colab-badge.svg\" alt=\"Open In Colab\"/></a>"
      ]
    },
    {
      "cell_type": "code",
      "metadata": {
        "id": "0oM2IEUr41-Y",
        "colab_type": "code",
        "colab": {}
      },
      "source": [
        "!apt-get install openjdk-8-jdk-headless -qq > /dev/null"
      ],
      "execution_count": 0,
      "outputs": []
    },
    {
      "cell_type": "code",
      "metadata": {
        "id": "iPLEZDTX8csy",
        "colab_type": "code",
        "colab": {}
      },
      "source": [
        "!wget -q http://www-eu.apache.org/dist/spark/spark-2.4.3/spark-2.4.3-bin-hadoop2.7.tgz\n"
      ],
      "execution_count": 0,
      "outputs": []
    },
    {
      "cell_type": "code",
      "metadata": {
        "id": "Bs14d4bF8egS",
        "colab_type": "code",
        "colab": {}
      },
      "source": [
        "!tar xf spark-2.4.3-bin-hadoop2.7.tgz"
      ],
      "execution_count": 0,
      "outputs": []
    },
    {
      "cell_type": "code",
      "metadata": {
        "id": "ieiIzi718gNq",
        "colab_type": "code",
        "colab": {}
      },
      "source": [
        "!pip install -q findspark\n"
      ],
      "execution_count": 0,
      "outputs": []
    },
    {
      "cell_type": "code",
      "metadata": {
        "id": "uh5Y1sG28tRy",
        "colab_type": "code",
        "colab": {}
      },
      "source": [
        "import os\n",
        "os.environ[\"JAVA_HOME\"] = \"/usr/lib/jvm/java-8-openjdk-amd64\"\n",
        "os.environ[\"SPARK_HOME\"] = \"/content/spark-2.4.3-bin-hadoop2.7\""
      ],
      "execution_count": 0,
      "outputs": []
    },
    {
      "cell_type": "code",
      "metadata": {
        "id": "rJsJ2fRq8wHK",
        "colab_type": "code",
        "colab": {}
      },
      "source": [
        "import findspark\n",
        "findspark.init('/content/spark-2.4.3-bin-hadoop2.7')\n",
        "\n",
        "from pyspark.sql import SparkSession\n",
        "from pyspark import SparkContext\n",
        "\n",
        "spark = SparkSession.builder.master(\"local\").getOrCreate()\n",
        "sc = SparkContext.getOrCreate()"
      ],
      "execution_count": 0,
      "outputs": []
    },
    {
      "cell_type": "code",
      "metadata": {
        "id": "d0ahV4BERXBx",
        "colab_type": "code",
        "colab": {}
      },
      "source": [
        "import csv\n",
        "\n",
        "line = []\n",
        "\n",
        "with open('test.csv') as csv_file:\n",
        "    csv_reader = csv.reader(csv_file, delimiter='\\n')\n",
        "    for row in csv_reader:\n",
        "        line.append(row[0])\n",
        "        \n",
        "print(line)"
      ],
      "execution_count": 0,
      "outputs": []
    },
    {
      "cell_type": "code",
      "metadata": {
        "id": "sd3H8RnQ8zb5",
        "colab_type": "code",
        "colab": {}
      },
      "source": [
        "import collections\n",
        "\n",
        "\n",
        "def mapper2gram(all_data):\n",
        "  map_list = []\n",
        "  \n",
        "  for line in all_data:\n",
        "    \n",
        "    words = line.split()\n",
        "    words2 = collections.deque(words)\n",
        "    words2.rotate(1)\n",
        "    \n",
        "    words = list(map(lambda a , b: a+\" \"+b ,list(words2), words))\n",
        "    del words[0]\n",
        "    \n",
        "    map_list.append(words)\n",
        "  return map_list\n",
        "\n",
        "def extract2gram(map_list):\n",
        "  extract_list = []\n",
        "  for comp in map_list:\n",
        "    for inx in comp:\n",
        "      extract_list.append(inx)\n",
        "  return extract_list\n",
        "      "
      ],
      "execution_count": 0,
      "outputs": []
    },
    {
      "cell_type": "code",
      "metadata": {
        "id": "upWxUtm_9K8a",
        "colab_type": "code",
        "colab": {
          "base_uri": "https://localhost:8080/",
          "height": 52
        },
        "outputId": "a47f4506-cc9e-4b1e-f278-2cbbe8fea371"
      },
      "source": [
        "map_list = mapper2gram(line)\n",
        "extract_list = extract2gram(map_list)\n",
        "\n",
        "print(map_list)\n",
        "print(extract_list)"
      ],
      "execution_count": 50,
      "outputs": [
        {
          "output_type": "stream",
          "text": [
            "[['1 1', '1 1', '1 2', '2 2', '2 2', '2 3', '3 3', '3 3', '3 4', '4 5', '5 6'], ['a b', 'b c', 'c 1', '1 2', '2 7', '7 8', '8 9', '9 5', '5 6', '6 b', 'b c']]\n",
            "['1 1', '1 1', '1 2', '2 2', '2 2', '2 3', '3 3', '3 3', '3 4', '4 5', '5 6', 'a b', 'b c', 'c 1', '1 2', '2 7', '7 8', '8 9', '9 5', '5 6', '6 b', 'b c']\n"
          ],
          "name": "stdout"
        }
      ]
    },
    {
      "cell_type": "code",
      "metadata": {
        "id": "WIlq1e6a9NrJ",
        "colab_type": "code",
        "colab": {
          "base_uri": "https://localhost:8080/",
          "height": 106
        },
        "outputId": "71f6bf06-5207-49c8-a1d4-cdfac7bcc847"
      },
      "source": [
        "x = sc.parallelize(extract_list)\n",
        "print(x.collect())\n",
        "\n",
        "wc = x.flatMap(lambda v: v.split(\",\"))\n",
        "print(wc.collect())\n",
        "\n",
        "y = x.map(lambda x: ((x, 1)))\n",
        "print(y.collect())\n",
        "\n",
        "z = y.reduceByKey(lambda a, b: a + b)\n",
        "print(z.collect())"
      ],
      "execution_count": 53,
      "outputs": [
        {
          "output_type": "stream",
          "text": [
            "['1 1', '1 1', '1 2', '2 2', '2 2', '2 3', '3 3', '3 3', '3 4', '4 5', '5 6', 'a b', 'b c', 'c 1', '1 2', '2 7', '7 8', '8 9', '9 5', '5 6', '6 b', 'b c']\n",
            "['1 1', '1 1', '1 2', '2 2', '2 2', '2 3', '3 3', '3 3', '3 4', '4 5', '5 6', 'a b', 'b c', 'c 1', '1 2', '2 7', '7 8', '8 9', '9 5', '5 6', '6 b', 'b c']\n",
            "[('1 1', 1), ('1 1', 1), ('1 2', 1), ('2 2', 1), ('2 2', 1), ('2 3', 1), ('3 3', 1), ('3 3', 1), ('3 4', 1), ('4 5', 1), ('5 6', 1), ('a b', 1), ('b c', 1), ('c 1', 1), ('1 2', 1), ('2 7', 1), ('7 8', 1), ('8 9', 1), ('9 5', 1), ('5 6', 1), ('6 b', 1), ('b c', 1)]\n",
            "[('1 1', 2), ('1 2', 2), ('2 2', 2), ('2 3', 1), ('3 3', 2), ('3 4', 1), ('4 5', 1), ('5 6', 2), ('a b', 1), ('b c', 2), ('c 1', 1), ('2 7', 1), ('7 8', 1), ('8 9', 1), ('9 5', 1), ('6 b', 1)]\n"
          ],
          "name": "stdout"
        }
      ]
    }
  ]
}